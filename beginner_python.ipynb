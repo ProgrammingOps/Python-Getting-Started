{
 "cells": [
  {
   "cell_type": "markdown",
   "metadata": {},
   "source": [
    "#### PREREQUISITE\n",
    "\n",
    "##### Software To Have\n",
    "- [VSCODE](https://code.visualstudio.com/download)\n",
    "- [ANACONDA](https://www.anaconda.com/download)\n",
    "- [SLACK](https://slack.com/downloads/mac)\n",
    "\n",
    "##### Notebook Access\n",
    "- Clone Repository containing Python Resources and assignments \n",
    ">```git clone https://github.com/ProgrammingOps/Python-Getting-Started.git```\n",
    "- Retrieving assignments from remote \n",
    ">```git pull```\n",
    "\n",
    "##### Useful commands\n",
    "- Spinning up vscode \n",
    ">```code .```"
   ]
  },
  {
   "cell_type": "markdown",
   "metadata": {},
   "source": [
    "##### What is Programming?\n",
    "- Programming is the art and science of giving instructions to a computer to perform specific tasks. Computers are incredibly powerful, but they are also very literal. They can execute instructions at lightning speed, but they need those instructions to be clear and precise. That's where programming comes in.\n",
    "- Programming allows us to:\n",
    "    - Automate Tasks: We can write programs to perform repetitive tasks, like sorting data, sending emails, or generating reports, without doing them manually.\n",
    "    - Solve Problems: Programming helps us solve complex problems, such as predicting weather patterns, simulating physical systems, or analyzing large datasets.\n",
    "    - Create Software: We can build all sorts of software applications, from video games to web apps, using programming languages.\n",
    "\n",
    "##### Why Python?\n",
    "Python is an excellent choice for beginners for several reasons:\n",
    "- Readability: Python's syntax is easy to read and understand. It uses indentation to define code blocks, making it visually clear.\n",
    "- Versatility: Python can be used for a wide range of applications, from web development to data analysis, scientific computing, artificial intelligence, and more.\n",
    "- Large Community: Python has a vast and supportive community of developers. There are countless resources and libraries available to help you solve problems and learn.\n",
    "- Beginner-Friendly: Python is known for its simplicity and beginner-friendliness. It's a great language to start with, even if you have no prior programming experience.\n",
    "\n",
    "\n",
    "##### Setting Up Python\n",
    "Before we start coding, we need to set up Python on your computer. Follow these steps:\n",
    "- Step 1: Download Python: Go to the official Python website (https://www.python.org/downloads/) and download the latest version of Python for your operating system. If you're unsure which version to choose, select the latest Python 3.x version.\n",
    "- Step 2: Install Python: Run the downloaded installer and follow the installation instructions. Make sure to check the option that says \"Add Python X.Y to PATH\" (X.Y represents the Python version number).\n",
    "- Step 3: Verify Installation: Open a terminal or command prompt and type python. You should see the Python interpreter starting, displaying the version number and a >>> prompt. This means Python is installed and ready.\n",
    "- Step 4: Code Editor: You can write Python code in any text editor, but it's recommended to use a code editor designed for programming. Popular choices include Visual Studio Code, PyCharm, and Jupyter Notebook. Install one of these editors or choose your favorite.\n",
    "- Step 5: Your First Python Program: Open your code editor, create a new Python file (usually with a .py extension), and write your first Python program. For example\n",
    "\n",
    "\n"
   ]
  },
  {
   "cell_type": "code",
   "execution_count": 1,
   "metadata": {},
   "outputs": [
    {
     "name": "stdout",
     "output_type": "stream",
     "text": [
      "Hello World!\n"
     ]
    }
   ],
   "source": [
    "print(\"Hello World!\")"
   ]
  },
  {
   "cell_type": "code",
   "execution_count": null,
   "metadata": {},
   "outputs": [],
   "source": []
  }
 ],
 "metadata": {
  "kernelspec": {
   "display_name": "data_engineering",
   "language": "python",
   "name": "python3"
  },
  "language_info": {
   "codemirror_mode": {
    "name": "ipython",
    "version": 3
   },
   "file_extension": ".py",
   "mimetype": "text/x-python",
   "name": "python",
   "nbconvert_exporter": "python",
   "pygments_lexer": "ipython3",
   "version": "3.8.17"
  },
  "orig_nbformat": 4
 },
 "nbformat": 4,
 "nbformat_minor": 2
}
