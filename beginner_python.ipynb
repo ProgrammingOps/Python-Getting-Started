{
 "cells": [
  {
   "cell_type": "markdown",
   "metadata": {},
   "source": [
    "#### PREREQUISITE\n",
    "\n",
    "##### Software To Have\n",
    "- [VSCODE](https://code.visualstudio.com/download)\n",
    "- [ANACONDA](https://www.anaconda.com/download)\n",
    "- [SLACK](https://slack.com/downloads/mac)\n",
    "\n",
    "##### Notebook Access\n",
    "- Clone Repository containing Python Resources and assignments \n",
    ">```git clone https://github.com/ProgrammingOps/Python-Getting-Started.git```\n",
    "- Retrieving assignments from remote \n",
    ">```git pull```\n",
    "\n",
    "##### Useful commands\n",
    "- Spinning up vscode \n",
    ">```code .```"
   ]
  }
 ],
 "metadata": {
  "kernelspec": {
   "display_name": "data_engineering",
   "language": "python",
   "name": "python3"
  },
  "language_info": {
   "codemirror_mode": {
    "name": "ipython",
    "version": 3
   },
   "file_extension": ".py",
   "mimetype": "text/x-python",
   "name": "python",
   "nbconvert_exporter": "python",
   "pygments_lexer": "ipython3",
   "version": "3.8.17"
  },
  "orig_nbformat": 4
 },
 "nbformat": 4,
 "nbformat_minor": 2
}
