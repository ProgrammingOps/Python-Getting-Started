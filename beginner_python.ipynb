{
 "cells": [
  {
   "cell_type": "markdown",
   "metadata": {},
   "source": [
    "#### PREREQUISITE\n",
    "\n",
    "##### Software To Have\n",
    "- [VSCODE](https://code.visualstudio.com/download)\n",
    "- [ANACONDA](https://www.anaconda.com/download)\n",
    "- [SLACK](https://slack.com/downloads/mac)\n",
    "\n",
    "##### Notebook Access\n",
    "- Clone Repository containing Python Resources and assignments \n",
    ">```git clone https://github.com/ProgrammingOps/Python-Getting-Started.git```\n",
    "- Retrieving assignments from remote \n",
    ">```git pull```\n",
    "\n",
    "##### Useful commands\n",
    "- Spinning up vscode \n",
    ">```code .```"
   ]
  },
  {
   "cell_type": "markdown",
   "metadata": {},
   "source": [
    "#### LESSON 1: INTRODUCTION TO PROGRAMMING"
   ]
  },
  {
   "cell_type": "markdown",
   "metadata": {},
   "source": [
    "##### What is Programming?\n",
    "- Programming is the art and science of giving instructions to a computer to perform specific tasks. Computers are incredibly powerful, but they are also very literal. They can execute instructions at lightning speed, but they need those instructions to be clear and precise. That's where programming comes in.\n",
    "- Programming allows us to:\n",
    "    - Automate Tasks: We can write programs to perform repetitive tasks, like sorting data, sending emails, or generating reports, without doing them manually.\n",
    "    - Solve Problems: Programming helps us solve complex problems, such as predicting weather patterns, simulating physical systems, or analyzing large datasets.\n",
    "    - Create Software: We can build all sorts of software applications, from video games to web apps, using programming languages.\n",
    "\n",
    "##### Why Python?\n",
    "Python is an excellent choice for beginners for several reasons:\n",
    "- Readability: Python's syntax is easy to read and understand. It uses indentation to define code blocks, making it visually clear.\n",
    "- Versatility: Python can be used for a wide range of applications, from web development to data analysis, scientific computing, artificial intelligence, and more.\n",
    "- Large Community: Python has a vast and supportive community of developers. There are countless resources and libraries available to help you solve problems and learn.\n",
    "- Beginner-Friendly: Python is known for its simplicity and beginner-friendliness. It's a great language to start with, even if you have no prior programming experience.\n",
    "\n",
    "\n",
    "##### Setting Up Python\n",
    "Before we start coding, we need to set up Python on your computer. Follow these steps:\n",
    "- Step 1: Download Python: Go to the official Python website (https://www.python.org/downloads/) and download the latest version of Python for your operating system. If you're unsure which version to choose, select the latest Python 3.x version.\n",
    "- Step 2: Install Python: Run the downloaded installer and follow the installation instructions. Make sure to check the option that says \"Add Python X.Y to PATH\" (X.Y represents the Python version number).\n",
    "- Step 3: Verify Installation: Open a terminal or command prompt and type python. You should see the Python interpreter starting, displaying the version number and a >>> prompt. This means Python is installed and ready.\n",
    "- Step 4: Code Editor: You can write Python code in any text editor, but it's recommended to use a code editor designed for programming. Popular choices include Visual Studio Code, PyCharm, and Jupyter Notebook. Install one of these editors or choose your favorite.\n",
    "- Step 5: Your First Python Program: Open your code editor, create a new Python file (usually with a .py extension), and write your first Python program. For example\n",
    "\n",
    "\n"
   ]
  },
  {
   "cell_type": "code",
   "execution_count": 1,
   "metadata": {},
   "outputs": [
    {
     "name": "stdout",
     "output_type": "stream",
     "text": [
      "Hello World!\n"
     ]
    }
   ],
   "source": [
    "print(\"Hello World!\")"
   ]
  },
  {
   "cell_type": "markdown",
   "metadata": {},
   "source": [
    "#### LESSON 2: PYTHON BASICS"
   ]
  },
  {
   "cell_type": "markdown",
   "metadata": {},
   "source": [
    "1. Comments in Python\n",
    "\n",
    "Comments are essential for documenting your code and making it more understandable for both yourself and others. In Python, you can use # for single-line comments or triple-quotes (''' or \"\"\") for multi-line comments."
   ]
  },
  {
   "cell_type": "code",
   "execution_count": 4,
   "metadata": {},
   "outputs": [
    {
     "data": {
      "text/plain": [
       "'This is a multi-line comment.\\nIt can span multiple lines.'"
      ]
     },
     "execution_count": 4,
     "metadata": {},
     "output_type": "execute_result"
    }
   ],
   "source": [
    "# This is a single-line comment\n",
    "\n",
    "'''This is a multi-line comment.\n",
    "It can span multiple lines.'''\n"
   ]
  },
  {
   "cell_type": "markdown",
   "metadata": {},
   "source": [
    "2. Printing Output\n",
    "\n",
    "Python provides the print() function to display information on the screen. You can pass one or more arguments to print(), and it will print them to the console."
   ]
  },
  {
   "cell_type": "code",
   "execution_count": 5,
   "metadata": {},
   "outputs": [
    {
     "name": "stdout",
     "output_type": "stream",
     "text": [
      "Hello, Python!\n",
      "Name: John Age: 30\n"
     ]
    }
   ],
   "source": [
    "print(\"Hello, Python!\")  # Prints \"Hello, Python!\"\n",
    "\n",
    "# You can print multiple items by separating them with commas.\n",
    "name = \"John\"\n",
    "age = 30\n",
    "print(\"Name:\", name, \"Age:\", age)\n",
    "# Prints \"Name: John Age: 30\"\n"
   ]
  },
  {
   "cell_type": "markdown",
   "metadata": {},
   "source": [
    "3. Variables and Data Types\n",
    "\n",
    "In Python, variables are used to store data. You can think of them as containers that hold values. Variables have names, and you can assign values to them using the assignment operator ="
   ]
  },
  {
   "cell_type": "code",
   "execution_count": 6,
   "metadata": {},
   "outputs": [
    {
     "name": "stdout",
     "output_type": "stream",
     "text": [
      "Name: Alice\n",
      "Age: 25\n",
      "Height: 5.8\n",
      "Is student? True\n"
     ]
    }
   ],
   "source": [
    "# Assigning values to variables\n",
    "name = \"Alice\"\n",
    "age = 25\n",
    "height = 5.8\n",
    "is_student = True\n",
    "\n",
    "# Printing the values of variables\n",
    "print(\"Name:\", name)\n",
    "print(\"Age:\", age)\n",
    "print(\"Height:\", height)\n",
    "print(\"Is student?\", is_student)\n"
   ]
  },
  {
   "cell_type": "markdown",
   "metadata": {},
   "source": [
    "Common data types in Python include:\n",
    "\n",
    "- Integers (int): Whole numbers, e.g., 1, 100, -42.\n",
    "- Floats (float): Numbers with decimal points, e.g., 3.14, 0.5, -2.0.\n",
    "- Strings (str): Sequences of characters, e.g., \"Hello\", 'Python', \"123\".\n",
    "- Booleans (bool): Represents either True or False"
   ]
  },
  {
   "cell_type": "code",
   "execution_count": 7,
   "metadata": {},
   "outputs": [],
   "source": [
    "# Examples of different data types\n",
    "integer_number = 42\n",
    "floating_point = 3.14\n",
    "text = \"Hello, Python!\"\n",
    "is_valid = True"
   ]
  }
 ],
 "metadata": {
  "kernelspec": {
   "display_name": "data_engineering",
   "language": "python",
   "name": "python3"
  },
  "language_info": {
   "codemirror_mode": {
    "name": "ipython",
    "version": 3
   },
   "file_extension": ".py",
   "mimetype": "text/x-python",
   "name": "python",
   "nbconvert_exporter": "python",
   "pygments_lexer": "ipython3",
   "version": "3.8.17"
  },
  "orig_nbformat": 4
 },
 "nbformat": 4,
 "nbformat_minor": 2
}
