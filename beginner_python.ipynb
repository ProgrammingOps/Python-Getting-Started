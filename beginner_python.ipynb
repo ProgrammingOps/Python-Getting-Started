{
 "cells": [
  {
   "cell_type": "markdown",
   "metadata": {},
   "source": [
    "#### PREREQUISITE"
   ]
  },
  {
   "cell_type": "markdown",
   "metadata": {},
   "source": [
    "##### Software To Have\n",
    "- [VSCODE](https://code.visualstudio.com/download)\n",
    "- [ANACONDA](https://www.anaconda.com/download)\n",
    "- [SLACK](https://slack.com/downloads/mac)\n",
    "\n",
    "##### Notebook Access\n",
    "- Clone Repository containing Python Resources and assignments \n",
    ">```git clone https://github.com/ProgrammingOps/Python-Getting-Started.git```\n",
    "- Retrieving assignments from remote \n",
    ">```git pull```\n",
    "\n",
    "##### Useful commands\n",
    "- Spinning up vscode \n",
    ">```code .```"
   ]
  },
  {
   "cell_type": "markdown",
   "metadata": {},
   "source": [
    "#### LESSON 1: INTRODUCTION TO PROGRAMMING"
   ]
  },
  {
   "cell_type": "markdown",
   "metadata": {},
   "source": [
    "##### What is Programming?\n",
    "- Programming is the art and science of giving instructions to a computer to perform specific tasks. Computers are incredibly powerful, but they are also very literal. They can execute instructions at lightning speed, but they need those instructions to be clear and precise. That's where programming comes in.\n",
    "- Programming allows us to:\n",
    "    - Automate Tasks: We can write programs to perform repetitive tasks, like sorting data, sending emails, or generating reports, without doing them manually.\n",
    "    - Solve Problems: Programming helps us solve complex problems, such as predicting weather patterns, simulating physical systems, or analyzing large datasets.\n",
    "    - Create Software: We can build all sorts of software applications, from video games to web apps, using programming languages.\n",
    "\n",
    "##### Why Python?\n",
    "Python is an excellent choice for beginners for several reasons:\n",
    "- Readability: Python's syntax is easy to read and understand. It uses indentation to define code blocks, making it visually clear.\n",
    "- Versatility: Python can be used for a wide range of applications, from web development to data analysis, scientific computing, artificial intelligence, and more.\n",
    "- Large Community: Python has a vast and supportive community of developers. There are countless resources and libraries available to help you solve problems and learn.\n",
    "- Beginner-Friendly: Python is known for its simplicity and beginner-friendliness. It's a great language to start with, even if you have no prior programming experience.\n",
    "\n",
    "\n",
    "##### Setting Up Python\n",
    "Before we start coding, we need to set up Python on your computer. Follow these steps:\n",
    "- Step 1: Download Python: Go to the official Python website (https://www.python.org/downloads/) and download the latest version of Python for your operating system. If you're unsure which version to choose, select the latest Python 3.x version.\n",
    "- Step 2: Install Python: Run the downloaded installer and follow the installation instructions. Make sure to check the option that says \"Add Python X.Y to PATH\" (X.Y represents the Python version number).\n",
    "- Step 3: Verify Installation: Open a terminal or command prompt and type python. You should see the Python interpreter starting, displaying the version number and a >>> prompt. This means Python is installed and ready.\n",
    "- Step 4: Code Editor: You can write Python code in any text editor, but it's recommended to use a code editor designed for programming. Popular choices include Visual Studio Code, PyCharm, and Jupyter Notebook. Install one of these editors or choose your favorite.\n",
    "- Step 5: Your First Python Program: Open your code editor, create a new Python file (usually with a .py extension), and write your first Python program. For example\n",
    "\n",
    "\n"
   ]
  },
  {
   "cell_type": "code",
   "execution_count": 1,
   "metadata": {},
   "outputs": [
    {
     "name": "stdout",
     "output_type": "stream",
     "text": [
      "Hello World!\n"
     ]
    }
   ],
   "source": [
    "print(\"Hello World!\")"
   ]
  },
  {
   "cell_type": "markdown",
   "metadata": {},
   "source": [
    "#### LESSON 2: PYTHON BASICS"
   ]
  },
  {
   "cell_type": "markdown",
   "metadata": {},
   "source": [
    "##### 1. Comments in Python\n",
    "\n",
    "Comments are essential for documenting your code and making it more understandable for both yourself and others. In Python, you can use # for single-line comments or triple-quotes (''' or \"\"\") for multi-line comments."
   ]
  },
  {
   "cell_type": "code",
   "execution_count": 3,
   "metadata": {},
   "outputs": [
    {
     "data": {
      "text/plain": [
       "'My commenting paragraph in python. Lets brace ourselves for some\\nreal programming'"
      ]
     },
     "execution_count": 3,
     "metadata": {},
     "output_type": "execute_result"
    }
   ],
   "source": [
    "# This is my first comment in python. Great!\n",
    "\n",
    "'''My commenting paragraph in python. Lets brace ourselves for some\n",
    "real programming'''"
   ]
  },
  {
   "cell_type": "code",
   "execution_count": 4,
   "metadata": {},
   "outputs": [
    {
     "data": {
      "text/plain": [
       "'This is a multi-line comment.\\nIt can span multiple lines.'"
      ]
     },
     "execution_count": 4,
     "metadata": {},
     "output_type": "execute_result"
    }
   ],
   "source": [
    "# This is a single-line comment\n",
    "\n",
    "'''This is a multi-line comment.\n",
    "It can span multiple lines.'''\n"
   ]
  },
  {
   "cell_type": "markdown",
   "metadata": {},
   "source": [
    "##### 2. Printing Output\n",
    "\n",
    "Python provides the print() function to display information on the screen. You can pass one or more arguments to print(), and it will print them to the console."
   ]
  },
  {
   "cell_type": "code",
   "execution_count": 10,
   "metadata": {},
   "outputs": [
    {
     "name": "stdout",
     "output_type": "stream",
     "text": [
      "jay 953635563563\n"
     ]
    }
   ],
   "source": [
    "print(\"jay\",953635563563)"
   ]
  },
  {
   "cell_type": "code",
   "execution_count": 11,
   "metadata": {},
   "outputs": [
    {
     "name": "stdout",
     "output_type": "stream",
     "text": [
      "Hello, Python!\n",
      "Programming with python is awesome!\n"
     ]
    }
   ],
   "source": [
    "print(\"Hello, Python!\")  # Prints \"Hello, Python!\"\n",
    "print(\"Programming with python is awesome!\")\n"
   ]
  },
  {
   "cell_type": "markdown",
   "metadata": {},
   "source": [
    "##### 3. Variables and Data Types\n",
    "\n",
    "In Python, variables are used to store data. You can think of them as containers that hold values. Variables have names, and you can assign values to them using the assignment operator ="
   ]
  },
  {
   "cell_type": "code",
   "execution_count": 16,
   "metadata": {},
   "outputs": [
    {
     "name": "stdout",
     "output_type": "stream",
     "text": [
      "Kennedy\n",
      "Alice\n"
     ]
    }
   ],
   "source": [
    "# Assigning values to variables\n",
    "best_friend = \"Kennedy\"\n",
    "name = \"Alice\"\n",
    "age = 25\n",
    "height = 5.8\n",
    "is_student = True\n",
    "\n",
    "# # Printing the values of variables\n",
    "# print( name)\n",
    "# print(\"Age:\", age)\n",
    "# print(\"Height:\", height)\n",
    "# print(\"Is student?\", is_student)\n",
    "print(best_friend)\n",
    "print(name)\n"
   ]
  },
  {
   "cell_type": "markdown",
   "metadata": {},
   "source": [
    "Common data types in Python include:\n",
    "\n",
    "- Integers (int): Whole numbers, e.g., 1, 100, -42.\n",
    "- Floats (float): Numbers with decimal points, e.g., 3.14, 0.5, -2.0.\n",
    "- Strings (str): Sequences of characters, e.g., \"Hello\", 'Python', \"123\".\n",
    "- Booleans (bool): Represents either True or False"
   ]
  },
  {
   "cell_type": "code",
   "execution_count": 7,
   "metadata": {},
   "outputs": [],
   "source": [
    "# Examples of different data types\n",
    "integer_number = 42\n",
    "floating_point = 3.14\n",
    "text = \"Hello, Python!\"\n",
    "is_valid = False"
   ]
  },
  {
   "cell_type": "markdown",
   "metadata": {},
   "source": [
    "1. Integers (int) AND Floats (float):\n",
    "\n",
    "Integers are whole numbers without a decimal point.\n",
    "\n",
    "Floats represent numbers with a decimal point.\n",
    "\n",
    "\n",
    "Operations:\n",
    "\n",
    "- Addition (+), Subtraction (-)\n",
    "-  Multiplication (*)\n",
    "- Division (/)\n",
    "- Floor Division (//),\n",
    "- Modulus (%)\n",
    "- Exponentiation (**)\n",
    "- Comparison Operators (<, >, <=, >=, ==, !=)\n"
   ]
  },
  {
   "cell_type": "code",
   "execution_count": 29,
   "metadata": {},
   "outputs": [
    {
     "name": "stdout",
     "output_type": "stream",
     "text": [
      "40\n"
     ]
    }
   ],
   "source": [
    "dads_age = 76\n",
    "son = 36\n",
    "\n",
    "difference = dads_age - son\n",
    "\n",
    "print(difference)"
   ]
  },
  {
   "cell_type": "code",
   "execution_count": null,
   "metadata": {},
   "outputs": [],
   "source": []
  },
  {
   "cell_type": "code",
   "execution_count": 2,
   "metadata": {},
   "outputs": [],
   "source": [
    "# Integer operations\n",
    "x = 5\n",
    "y = 3\n",
    "\n",
    "addition = x + y\n",
    "subtraction = x - y\n",
    "multiplication = x * y\n",
    "division = x / y\n",
    "floor_division = x // y\n",
    "modulus = x % y\n",
    "exponentiation = x ** y\n",
    "\n",
    "greater_than = x > y\n",
    "equal_to = x == y\n",
    "not_equal_to = x != y"
   ]
  },
  {
   "cell_type": "code",
   "execution_count": 3,
   "metadata": {},
   "outputs": [],
   "source": [
    "# Float operations\n",
    "a = 3.14\n",
    "b = 2.0\n",
    "\n",
    "addition = a + b\n",
    "subtraction = a - b\n",
    "multiplication = a * b\n",
    "division = a / b\n",
    "\n",
    "greater_than = a > b\n",
    "equal_to = a == b\n"
   ]
  },
  {
   "cell_type": "markdown",
   "metadata": {},
   "source": []
  },
  {
   "cell_type": "markdown",
   "metadata": {},
   "source": [
    "EXERCISES"
   ]
  },
  {
   "cell_type": "markdown",
   "metadata": {},
   "source": [
    "Calculate the sum of two integers, x = 7 and y = 3. Store the result in a variable and print it."
   ]
  },
  {
   "cell_type": "code",
   "execution_count": null,
   "metadata": {},
   "outputs": [],
   "source": []
  },
  {
   "cell_type": "code",
   "execution_count": 5,
   "metadata": {},
   "outputs": [
    {
     "name": "stdout",
     "output_type": "stream",
     "text": [
      "10\n"
     ]
    }
   ],
   "source": [
    "x=7\n",
    "y=3\n",
    "\n",
    "sum = x+y\n",
    "print(sum)"
   ]
  },
  {
   "cell_type": "markdown",
   "metadata": {},
   "source": [
    "Find the product of x = 5 and y = 4. Store the result in a variable and print it"
   ]
  },
  {
   "cell_type": "code",
   "execution_count": 31,
   "metadata": {},
   "outputs": [
    {
     "name": "stdout",
     "output_type": "stream",
     "text": [
      "20\n"
     ]
    }
   ],
   "source": [
    "x=5\n",
    "y=4\n",
    "\n",
    "product = x*y\n",
    "print(product)"
   ]
  },
  {
   "cell_type": "markdown",
   "metadata": {},
   "source": [
    "Compute the product of a = 2.5 and b = 4.0. Store the result in a variable and print it."
   ]
  },
  {
   "cell_type": "code",
   "execution_count": 32,
   "metadata": {},
   "outputs": [
    {
     "name": "stdout",
     "output_type": "stream",
     "text": [
      "10.0\n"
     ]
    }
   ],
   "source": [
    "a = 2.5\n",
    "b = 4.0\n",
    "\n",
    "product = a*b\n",
    "print(product)"
   ]
  },
  {
   "cell_type": "markdown",
   "metadata": {},
   "source": [
    "Calculate the result of dividing a = 10.0 by b = 2.5. Store the result in a variable and print it."
   ]
  },
  {
   "cell_type": "code",
   "execution_count": null,
   "metadata": {},
   "outputs": [],
   "source": []
  },
  {
   "cell_type": "markdown",
   "metadata": {},
   "source": [
    "Determine if a = 3.0 is greater than b = 3.0. Store the result in a variable and print it as a boolean value."
   ]
  },
  {
   "cell_type": "code",
   "execution_count": 6,
   "metadata": {},
   "outputs": [
    {
     "data": {
      "text/plain": [
       "False"
      ]
     },
     "execution_count": 6,
     "metadata": {},
     "output_type": "execute_result"
    }
   ],
   "source": []
  },
  {
   "cell_type": "markdown",
   "metadata": {},
   "source": [
    "YOUR QUIZ\n",
    "\n",
    "- Calculate the area of a rectangle with a length of 8 units and a width of 5 units. Store the result in a variable and print it.\n",
    "\n",
    "- Find the average of three test scores: 80, 92, and 78. Store the result in a variable and print it.\n",
    "\n",
    "- Convert a temperature in Celsius, 20 degrees, to Fahrenheit using the formula F = C * 9/5 + 32. Store the result in a variable and print it."
   ]
  },
  {
   "cell_type": "code",
   "execution_count": null,
   "metadata": {},
   "outputs": [],
   "source": []
  },
  {
   "cell_type": "markdown",
   "metadata": {},
   "source": [
    "RECEIVING INPUTS"
   ]
  },
  {
   "cell_type": "code",
   "execution_count": 9,
   "metadata": {},
   "outputs": [
    {
     "data": {
      "text/plain": [
       "'FGFG'"
      ]
     },
     "execution_count": 9,
     "metadata": {},
     "output_type": "execute_result"
    }
   ],
   "source": [
    "input(\"Whats your name \")"
   ]
  },
  {
   "cell_type": "code",
   "execution_count": null,
   "metadata": {},
   "outputs": [],
   "source": [
    "# declare a variable to store your input\n",
    "\n",
    "name = input(\"Whats your name \")\n",
    "print(\"Hellow\", name)"
   ]
  },
  {
   "cell_type": "markdown",
   "metadata": {},
   "source": [
    "TYPE CONVERSION\n",
    "\n",
    "Determine the age depending on the current year and year of birth"
   ]
  },
  {
   "cell_type": "code",
   "execution_count": null,
   "metadata": {},
   "outputs": [],
   "source": [
    "# int\n",
    "# char\n",
    "#float\n",
    "#bool"
   ]
  },
  {
   "cell_type": "code",
   "execution_count": 5,
   "metadata": {},
   "outputs": [
    {
     "name": "stdout",
     "output_type": "stream",
     "text": [
      "22\n"
     ]
    }
   ],
   "source": [
    "birth_year = 2001\n",
    "current_year = 2023\n",
    "\n",
    "age = current_year-birth_year"
   ]
  },
  {
   "cell_type": "code",
   "execution_count": 8,
   "metadata": {},
   "outputs": [
    {
     "ename": "TypeError",
     "evalue": "unsupported operand type(s) for -: 'int' and 'str'",
     "output_type": "error",
     "traceback": [
      "\u001b[0;31m---------------------------------------------------------------------------\u001b[0m",
      "\u001b[0;31mTypeError\u001b[0m                                 Traceback (most recent call last)",
      "\u001b[1;32m/home/tito/Desktop/Python with Jay/Python-Getting-Started/beginner_python.ipynb Cell 39\u001b[0m line \u001b[0;36m4\n\u001b[1;32m      <a href='vscode-notebook-cell:/home/tito/Desktop/Python%20with%20Jay/Python-Getting-Started/beginner_python.ipynb#X66sZmlsZQ%3D%3D?line=0'>1</a>\u001b[0m birth_year \u001b[39m=\u001b[39m \u001b[39minput\u001b[39m(\u001b[39m\"\u001b[39m\u001b[39mWhats your year of birth?\u001b[39m\u001b[39m\"\u001b[39m)\n\u001b[1;32m      <a href='vscode-notebook-cell:/home/tito/Desktop/Python%20with%20Jay/Python-Getting-Started/beginner_python.ipynb#X66sZmlsZQ%3D%3D?line=1'>2</a>\u001b[0m current_year \u001b[39m=\u001b[39m \u001b[39m2023\u001b[39m\n\u001b[0;32m----> <a href='vscode-notebook-cell:/home/tito/Desktop/Python%20with%20Jay/Python-Getting-Started/beginner_python.ipynb#X66sZmlsZQ%3D%3D?line=3'>4</a>\u001b[0m age \u001b[39m=\u001b[39m current_year\u001b[39m-\u001b[39;49mbirth_year\n\u001b[1;32m      <a href='vscode-notebook-cell:/home/tito/Desktop/Python%20with%20Jay/Python-Getting-Started/beginner_python.ipynb#X66sZmlsZQ%3D%3D?line=4'>5</a>\u001b[0m \u001b[39mprint\u001b[39m(age)\n",
      "\u001b[0;31mTypeError\u001b[0m: unsupported operand type(s) for -: 'int' and 'str'"
     ]
    }
   ],
   "source": [
    "# birth_year = input(\"Whats your year of birth?\")\n",
    "current_year = 2023\n",
    "\n",
    "age = current_year-birth_year\n",
    "print(age)"
   ]
  },
  {
   "cell_type": "code",
   "execution_count": null,
   "metadata": {},
   "outputs": [],
   "source": []
  },
  {
   "cell_type": "markdown",
   "metadata": {},
   "source": [
    "#### LESSON 3: CONTROL FLOW"
   ]
  }
 ],
 "metadata": {
  "kernelspec": {
   "display_name": "data_engineering",
   "language": "python",
   "name": "python3"
  },
  "language_info": {
   "codemirror_mode": {
    "name": "ipython",
    "version": 3
   },
   "file_extension": ".py",
   "mimetype": "text/x-python",
   "name": "python",
   "nbconvert_exporter": "python",
   "pygments_lexer": "ipython3",
   "version": "3.8.17"
  },
  "orig_nbformat": 4
 },
 "nbformat": 4,
 "nbformat_minor": 2
}
